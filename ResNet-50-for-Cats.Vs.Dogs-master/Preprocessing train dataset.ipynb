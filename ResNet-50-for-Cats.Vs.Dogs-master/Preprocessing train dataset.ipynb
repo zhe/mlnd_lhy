{
 "cells": [
  {
   "cell_type": "markdown",
   "metadata": {},
   "source": [
    "## Preprocessing train dataset\n",
    "\n",
    "Divide the *train* folder into two folders *mytrain* and *myvalid*\n",
    "\n",
    "- mytrain ---- including two folders \n",
    "    - cat ---- including about 11250 cat images \n",
    "    - dog ---- including about 11250 dog images \n",
    "\n",
    "-  myvalid ---- including two folders \n",
    "    - cat ---- including about 1250 cat images\n",
    "    - dog ---- including about 1250 dog images"
   ]
  },
  {
   "cell_type": "code",
   "execution_count": 1,
   "metadata": {
    "collapsed": false
   },
   "outputs": [],
   "source": [
    "from sklearn.model_selection import train_test_split\n",
    "import seaborn as sns\n",
    "import os\n",
    "import shutil\n",
    "%matplotlib inline"
   ]
  },
  {
   "cell_type": "markdown",
   "metadata": {},
   "source": [
    "## Visualize the size of the original *train* dataset."
   ]
  },
  {
   "cell_type": "code",
   "execution_count": 2,
   "metadata": {
    "collapsed": false
   },
   "outputs": [
    {
     "data": {
      "image/png": "[encoded data removed]",
      "text/plain": [
       "<matplotlib.figure.Figure at 0x11136ef90>"
      ]
     },
     "metadata": {},
     "output_type": "display_data"
    }
   ],
   "source": [
    "train_filenames = os.listdir('train')\n",
    "train_cat = filter(lambda x:x[:3] == 'cat', train_filenames)\n",
    "train_dog = filter(lambda x:x[:3] == 'dog', train_filenames)\n",
    "x = ['train_cat', 'train_dog', 'test']\n",
    "y = [len(train_cat), len(train_dog), len(os.listdir('test'))]\n",
    "ax = sns.barplot(x=x, y=y)"
   ]
  },
  {
   "cell_type": "markdown",
   "metadata": {},
   "source": [
    "## Shuffle and split the train filenames"
   ]
  },
  {
   "cell_type": "code",
   "execution_count": 3,
   "metadata": {
    "collapsed": false
   },
   "outputs": [
    {
     "name": "stdout",
     "output_type": "stream",
     "text": [
      "22500 2500\n"
     ]
    }
   ],
   "source": [
    "mytrain, myvalid = train_test_split(train_filenames, test_size=0.1)\n",
    "print len(mytrain), len(myvalid)"
   ]
  },
  {
   "cell_type": "markdown",
   "metadata": {},
   "source": [
    "## Visualize the size of the processed train dataset"
   ]
  },
  {
   "cell_type": "code",
   "execution_count": 4,
   "metadata": {
    "collapsed": false
   },
   "outputs": [
    {
     "data": {
      "image/png": "[encoded data removed]",
      "text/plain": [
       "<matplotlib.figure.Figure at 0x11136e050>"
      ]
     },
     "metadata": {},
     "output_type": "display_data"
    }
   ],
   "source": [
    "mytrain_cat = filter(lambda x:x[:3] == 'cat', mytrain)\n",
    "mytrain_dog = filter(lambda x:x[:3] == 'dog', mytrain)\n",
    "myvalid_cat = filter(lambda x:x[:3] == 'cat', myvalid)\n",
    "myvalid_dog = filter(lambda x:x[:3] == 'dog', myvalid)\n",
    "x = ['mytrain_cat', 'mytrain_dog', 'myvalid_cat', 'myvalid_dog']\n",
    "y = [len(mytrain_cat), len(mytrain_dog), len(myvalid_cat), len(myvalid_dog)]\n",
    "\n",
    "ax = sns.barplot(x=x, y=y)"
   ]
  },
  {
   "cell_type": "markdown",
   "metadata": {},
   "source": [
    "## Create symbolic link of images"
   ]
  },
  {
   "cell_type": "code",
   "execution_count": 5,
   "metadata": {
    "collapsed": false
   },
   "outputs": [],
   "source": [
    "def remove_and_create_class(dirname):\n",
    "    if os.path.exists(dirname):\n",
    "        shutil.rmtree(dirname)\n",
    "    os.mkdir(dirname)\n",
    "    os.mkdir(dirname+'/cat')\n",
    "    os.mkdir(dirname+'/dog')\n",
    "\n",
    "remove_and_create_class('mytrain')\n",
    "remove_and_create_class('myvalid')\n",
    "\n",
    "for filename in mytrain_cat:\n",
    "    os.symlink('../../train/'+filename, 'mytrain/cat/'+filename)\n",
    "\n",
    "for filename in mytrain_dog:\n",
    "    os.symlink('../../train/'+filename, 'mytrain/dog/'+filename)\n",
    "\n",
    "for filename in myvalid_cat:\n",
    "    os.symlink('../../train/'+filename, 'myvalid/cat/'+filename)\n",
    "\n",
    "for filename in myvalid_dog:\n",
    "    os.symlink('../../train/'+filename, 'myvalid/dog/'+filename)\n"
   ]
  },
  {
   "cell_type": "code",
   "execution_count": null,
   "metadata": {
    "collapsed": true
   },
   "outputs": [],
   "source": []
  }
 ],
 "metadata": {
  "kernelspec": {
   "display_name": "Python 2",
   "language": "python",
   "name": "python2"
  },
  "language_info": {
   "codemirror_mode": {
    "name": "ipython",
    "version": 2
   },
   "file_extension": ".py",
   "mimetype": "text/x-python",
   "name": "python",
   "nbconvert_exporter": "python",
   "pygments_lexer": "ipython2",
   "version": "2.7.12"
  }
 },
 "nbformat": 4,
 "nbformat_minor": 1
}
